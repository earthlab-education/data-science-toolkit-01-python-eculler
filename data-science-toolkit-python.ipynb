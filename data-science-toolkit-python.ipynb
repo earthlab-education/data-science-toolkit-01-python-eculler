{
 "cells": [
  {
   "cell_type": "markdown",
   "metadata": {
    "colab_type": "text",
    "id": "view-in-github"
   },
   "source": [
    "<a href=\"https://colab.research.google.com/github/earthlab-education/data-science-toolkit-01-python-template/blob/main/data-science-toolkit-python.ipynb\" target=\"_parent\"><img src=\"https://colab.research.google.com/assets/colab-badge.svg\" alt=\"Open In Colab\"/></a>"
   ]
  },
  {
   "cell_type": "markdown",
   "metadata": {
    "id": "4JXr2AgdhIiG"
   },
   "source": [
    "<img style=\"float: left;\" src=\"https://drive.google.com/uc?export=view&id=13_P0Dq9rb1aXFFVfspMRn5hlP7t8RuwC\" width=\"200\" height=\"100\">\n",
    "\n",
    "\n",
    "![Colored Bar](https://drive.google.com/uc?export=view&id=1WL0ur5SQc5ijCvXc6MvWUeoWOIVS_rQ9)\n",
    "\n",
    "\n",
    "\n",
    "# Data Science Toolkit - Intro to Python\n",
    "\n",
    "Welcome to the Data Science Toolkit workshop! Today, we will learn the fundamentals of programming for data science in Python, including:\n",
    "\n",
    "\n",
    "1.   Variables and Data Types\n",
    "2.   Importing Tabular Data\n",
    "3.   Plotting\n",
    "4.   Functions and Loops"
   ]
  },
  {
   "cell_type": "markdown",
   "metadata": {
    "id": "utjSE4J4iYbY"
   },
   "source": [
    "## Variables and Data Types\n",
    "\n",
    "Variables are used to store information in Python using the assignment operator `=` . They can take on numerical values, or text values, or some combination. Python is case sensitive, and you should get in the habit of giving meaningful names to your variables. \n",
    "\n",
    "The following tasks are modeled after the Software Carpentries (http://swcarpentry.github.io/python-novice-gapminder/02-variables/index.html)\n",
    "\n",
    "\n"
   ]
  },
  {
   "cell_type": "markdown",
   "metadata": {
    "id": "CbZjhAYoy5vD"
   },
   "source": [
    "### **TASK**: Create some variables"
   ]
  },
  {
   "cell_type": "code",
   "execution_count": 1,
   "metadata": {
    "id": "uSfPRCBDhC6Z"
   },
   "outputs": [],
   "source": [
    "temp_f = 45.3"
   ]
  },
  {
   "cell_type": "markdown",
   "metadata": {
    "id": "vyhcp-FszSaD"
   },
   "source": [
    "### **TASK**: Use `print` to display values"
   ]
  },
  {
   "cell_type": "code",
   "execution_count": null,
   "metadata": {
    "id": "Yr5nVCg0zun-"
   },
   "outputs": [],
   "source": []
  },
  {
   "cell_type": "markdown",
   "metadata": {
    "id": "GO7Qfar2zxPq"
   },
   "source": [
    "### Variables must be created before they are used\n",
    "\n",
    "\n",
    "*   If a variable doesn’t exist yet, or if the name has been mis-spelled, Python reports an error.\n",
    "*   It can be helpful to use the `Runtime` -> `Restart & Run All` option to clear out your variables and re-run cells from the top of the notebook.\n",
    "*   A variable inspector is a handy way to monitor variable assigments.\n",
    "\n",
    "\n",
    "\n"
   ]
  },
  {
   "cell_type": "code",
   "execution_count": null,
   "metadata": {
    "id": "db34Yj8h0Gx1"
   },
   "outputs": [],
   "source": []
  },
  {
   "cell_type": "markdown",
   "metadata": {
    "id": "ecw_EHju1Fy7"
   },
   "source": [
    "### **TASK**: Use your variables and Python operators (`+, -, *, /, ^`) in calculations "
   ]
  },
  {
   "cell_type": "code",
   "execution_count": null,
   "metadata": {
    "id": "qkPYqjbj1lwy"
   },
   "outputs": [],
   "source": []
  },
  {
   "cell_type": "markdown",
   "metadata": {
    "id": "qCy7WcFm1vam"
   },
   "source": [
    "### **TASK**: Use the built-in `type()` function to determine the type of data contained within a variable"
   ]
  },
  {
   "cell_type": "code",
   "execution_count": null,
   "metadata": {
    "id": "xNapvOsG2bB7"
   },
   "outputs": [],
   "source": []
  },
  {
   "cell_type": "markdown",
   "metadata": {
    "id": "mIIX11_l2qIF"
   },
   "source": [
    "### **TASK**: Use the built-in `len()` function to determine the length of a string. \n",
    "\n",
    "\n",
    "*   **NOTE**: Python uses zero indexing so the first element in a string takes on an index of zero (0).\n",
    "\n"
   ]
  },
  {
   "cell_type": "code",
   "execution_count": null,
   "metadata": {
    "id": "B-BS2e_p26OC"
   },
   "outputs": [],
   "source": []
  },
  {
   "cell_type": "markdown",
   "metadata": {
    "id": "Ii58oStH3AL0"
   },
   "source": [
    "### **TASK**: Use a slice to get a substring"
   ]
  },
  {
   "cell_type": "code",
   "execution_count": null,
   "metadata": {
    "id": "QFMqw4v33G83"
   },
   "outputs": [],
   "source": []
  },
  {
   "cell_type": "markdown",
   "metadata": {
    "id": "e3fXdYPcidYQ"
   },
   "source": [
    "## Importing Tabular data\n",
    "\n",
    "* Download temperature data from the [NOAA Climate data website](https://www.ncei.noaa.gov/access/monitoring/climate-at-a-glance/)\n",
    "\n",
    "* Use the `pandas` library to work with tabular data in Python (be careful to skip the 'header' rows and assign missing values when appropriate)\n",
    "* NOTE: This lesson is modeled after the Sofware Carpentries (http://swcarpentry.github.io/python-novice-gapminder/07-reading-tabular/index.html)"
   ]
  },
  {
   "cell_type": "markdown",
   "metadata": {
    "id": "vutoXVLH6sli"
   },
   "source": [
    "### **TASK**: Use `pd.read_csv()` to open a comma separated value (.csv) file. Use the built-in `.head()` function to display the first 5 rows of your data."
   ]
  },
  {
   "cell_type": "code",
   "execution_count": null,
   "metadata": {
    "id": "zSFgngvsihNY"
   },
   "outputs": [],
   "source": []
  },
  {
   "cell_type": "markdown",
   "metadata": {
    "id": "KoqL5dV474Hq"
   },
   "source": [
    "### **TASK**: Use `index_col` to specify that a column’s values should be used as row headings"
   ]
  },
  {
   "cell_type": "code",
   "execution_count": null,
   "metadata": {
    "id": "uG9Y44Vg8TD4"
   },
   "outputs": [],
   "source": []
  },
  {
   "cell_type": "markdown",
   "metadata": {
    "id": "2DqM9N-38czp"
   },
   "source": [
    "### **TASK**: Use the `DataFrame.info()` method to find out more about a dataframe"
   ]
  },
  {
   "cell_type": "code",
   "execution_count": null,
   "metadata": {
    "id": "w7xA6EJQ86yC"
   },
   "outputs": [],
   "source": []
  },
  {
   "cell_type": "markdown",
   "metadata": {
    "id": "znvArbAO87nD"
   },
   "source": [
    "### **TASK**: Use `DataFrame.describe()` to get summary statistics about data"
   ]
  },
  {
   "cell_type": "code",
   "execution_count": null,
   "metadata": {
    "id": "Ag1EETfm9Ar8"
   },
   "outputs": [],
   "source": []
  },
  {
   "cell_type": "markdown",
   "metadata": {
    "id": "R9ZcgyxqihbR"
   },
   "source": [
    "## Plotting\n",
    "\n",
    "Finally, you can plot the data using `.plot()`\n",
    "\n",
    "**NOTE**: This lesson is modeled after a lesson from our Earth Data Science textbook (https://www.earthdatascience.org/courses/scientists-guide-to-plotting-data-in-python/plot-activities/plot-tabular-pandas-data-python/)"
   ]
  },
  {
   "cell_type": "markdown",
   "metadata": {
    "id": "EQs0BJwy9yQ3"
   },
   "source": [
    "### **TASK**: Plot your temperature data using `.plot()`"
   ]
  },
  {
   "cell_type": "code",
   "execution_count": null,
   "metadata": {
    "id": "RJpxNiTBijjz"
   },
   "outputs": [],
   "source": []
  },
  {
   "cell_type": "markdown",
   "metadata": {
    "id": "EyQH_Llgijvk"
   },
   "source": [
    "## Functions and Loops\n",
    "\n",
    "Programming is especially useful when you need to perform the same task or similar tasks over and over. For example - suppose we want to to convert the temperatures in our DataFrame from Fahrenheit to Celcius? "
   ]
  },
  {
   "cell_type": "markdown",
   "metadata": {
    "id": "lopb1Ij8kh4C"
   },
   "source": [
    "### TASK: Convert a single temperature from Fahrenheit to Celcius"
   ]
  },
  {
   "cell_type": "code",
   "execution_count": null,
   "metadata": {
    "id": "Z7MoeY4uiuxz"
   },
   "outputs": [],
   "source": []
  },
  {
   "cell_type": "markdown",
   "metadata": {
    "id": "JAWNArtgkqkz"
   },
   "source": [
    "### TASK: Write a function to convert the temperature, then test it by converting a single temperature"
   ]
  },
  {
   "cell_type": "code",
   "execution_count": null,
   "metadata": {
    "id": "YVoGlYDkk9G7"
   },
   "outputs": [],
   "source": []
  },
  {
   "cell_type": "markdown",
   "metadata": {
    "id": "fTY5pZ2yk8Rz"
   },
   "source": [
    "### TASK: Make a copy of one year of your data"
   ]
  },
  {
   "cell_type": "code",
   "execution_count": null,
   "metadata": {
    "id": "dEo6cyNXlM3E"
   },
   "outputs": [],
   "source": []
  },
  {
   "cell_type": "markdown",
   "metadata": {
    "id": "6SYjStQOnFnF"
   },
   "source": [
    "### TASK: Using a for loop, print each of the Fahrenheit temperatures in your DataFrame"
   ]
  },
  {
   "cell_type": "code",
   "execution_count": null,
   "metadata": {
    "id": "l7WXRILGnFxO"
   },
   "outputs": [],
   "source": []
  },
  {
   "cell_type": "markdown",
   "metadata": {
    "id": "BdzPnIVZnF_P"
   },
   "source": [
    "### TASK: Convert each Fahrenheit temperature to Celcius and print that instead"
   ]
  },
  {
   "cell_type": "code",
   "execution_count": null,
   "metadata": {
    "id": "3eX8VoJWnGMA"
   },
   "outputs": [],
   "source": []
  },
  {
   "cell_type": "markdown",
   "metadata": {
    "id": "EWYugoq4nGWv"
   },
   "source": [
    "### TASK: Store the Celcius temperatures in a list"
   ]
  },
  {
   "cell_type": "code",
   "execution_count": null,
   "metadata": {
    "id": "1jLdPRuGnGhJ"
   },
   "outputs": [],
   "source": []
  },
  {
   "cell_type": "markdown",
   "metadata": {
    "id": "WpMGTgxklNQ2"
   },
   "source": [
    "### TASK: Compute a list of all the temperatures in your DataFrame in Celcius. Then, add them to your DataFrame as a new column.\n",
    "\n",
    "**HINT - use the one-year test DataFrame to try out your method before applying it to the whole DataFrame**"
   ]
  },
  {
   "cell_type": "code",
   "execution_count": null,
   "metadata": {
    "id": "AEplZrDXnqpy"
   },
   "outputs": [],
   "source": []
  },
  {
   "cell_type": "markdown",
   "metadata": {
    "id": "AjJ07BHMnrct"
   },
   "source": [
    "### TASK: Plot the temperature in Celcius over time"
   ]
  }
 ],
 "metadata": {
  "colab": {
   "include_colab_link": true,
   "name": "data-science-toolkit-python.ipynb",
   "provenance": []
  },
  "gpuClass": "standard",
  "kernelspec": {
   "display_name": "Python 3 (ipykernel)",
   "language": "python",
   "name": "python3"
  },
  "language_info": {
   "codemirror_mode": {
    "name": "ipython",
    "version": 3
   },
   "file_extension": ".py",
   "mimetype": "text/x-python",
   "name": "python",
   "nbconvert_exporter": "python",
   "pygments_lexer": "ipython3",
   "version": "3.8.12"
  },
  "varInspector": {
   "cols": {
    "lenName": 16,
    "lenType": 16,
    "lenVar": 40
   },
   "kernels_config": {
    "python": {
     "delete_cmd_postfix": "",
     "delete_cmd_prefix": "del ",
     "library": "var_list.py",
     "varRefreshCmd": "print(var_dic_list())"
    },
    "r": {
     "delete_cmd_postfix": ") ",
     "delete_cmd_prefix": "rm(",
     "library": "var_list.r",
     "varRefreshCmd": "cat(var_dic_list()) "
    }
   },
   "oldHeight": 122.850334,
   "position": {
    "height": "40px",
    "left": "866.667px",
    "right": "20px",
    "top": "120px",
    "width": "250px"
   },
   "types_to_exclude": [
    "module",
    "function",
    "builtin_function_or_method",
    "instance",
    "_Feature"
   ],
   "varInspector_section_display": "none",
   "window_display": false
  }
 },
 "nbformat": 4,
 "nbformat_minor": 1
}
