{
  "nbformat": 4,
  "nbformat_minor": 0,
  "metadata": {
    "colab": {
      "name": "data-science-toolkit-python.ipynb",
      "provenance": [],
      "include_colab_link": true
    },
    "kernelspec": {
      "name": "python3",
      "display_name": "Python 3"
    },
    "language_info": {
      "name": "python"
    },
    "gpuClass": "standard"
  },
  "cells": [
    {
      "cell_type": "markdown",
      "metadata": {
        "id": "view-in-github",
        "colab_type": "text"
      },
      "source": [
        "<a href=\"https://colab.research.google.com/github/earthlab-education/data-science-toolkit-01-python-template/blob/main/data-science-toolkit-python.ipynb\" target=\"_parent\"><img src=\"https://colab.research.google.com/assets/colab-badge.svg\" alt=\"Open In Colab\"/></a>"
      ]
    },
    {
      "cell_type": "markdown",
      "source": [
        "<img style=\"float: left;\" src=\"https://drive.google.com/uc?export=view&id=13_P0Dq9rb1aXFFVfspMRn5hlP7t8RuwC\" width=\"200\" height=\"100\">\n",
        "\n",
        "\n",
        "![Colored Bar](https://drive.google.com/uc?export=view&id=1WL0ur5SQc5ijCvXc6MvWUeoWOIVS_rQ9)\n",
        "\n",
        "\n",
        "\n",
        "# Data Science Toolkit - Intro to Python\n",
        "\n",
        "Welcome to the Data Science Toolkit workshop! Today, we will learn the fundamentals of programming for data science in Python, including:\n",
        "\n",
        "\n",
        "1.   Variables and Data Types\n",
        "2.   Importing Tabular Data\n",
        "3.   Plotting\n",
        "4.   Functions and Loops"
      ],
      "metadata": {
        "id": "4JXr2AgdhIiG"
      }
    },
    {
      "cell_type": "markdown",
      "source": [
        "## Variables and Data Types\n",
        "\n",
        "Variables are used to store information in Python using the assignment operator `=` . They can take on numerical values, or text values, or some combination. Python is case sensitive, and you should get in the habit of giving meaningful names to your variables. \n",
        "\n",
        "The following tasks are modeled after the Software Carpentries (http://swcarpentry.github.io/python-novice-gapminder/02-variables/index.html)\n",
        "\n",
        "\n"
      ],
      "metadata": {
        "id": "utjSE4J4iYbY"
      }
    },
    {
      "cell_type": "markdown",
      "source": [
        "### **TASK**: Create some variables"
      ],
      "metadata": {
        "id": "CbZjhAYoy5vD"
      }
    },
    {
      "cell_type": "code",
      "execution_count": null,
      "metadata": {
        "id": "uSfPRCBDhC6Z"
      },
      "outputs": [],
      "source": [
        ""
      ]
    },
    {
      "cell_type": "markdown",
      "source": [
        "### **TASK**: Use `print` to display values"
      ],
      "metadata": {
        "id": "vyhcp-FszSaD"
      }
    },
    {
      "cell_type": "code",
      "source": [
        ""
      ],
      "metadata": {
        "id": "Yr5nVCg0zun-"
      },
      "execution_count": null,
      "outputs": []
    },
    {
      "cell_type": "markdown",
      "source": [
        "### Variables must be created before they are used\n",
        "\n",
        "\n",
        "*   If a variable doesn’t exist yet, or if the name has been mis-spelled, Python reports an error.\n",
        "*   It can be helpful to use the `Runtime` -> `Restart & Run All` option to clear out your variables and re-run cells from the top of the notebook.\n",
        "*   A variable inspector is a handy way to monitor variable assigments.\n",
        "\n",
        "\n",
        "\n"
      ],
      "metadata": {
        "id": "GO7Qfar2zxPq"
      }
    },
    {
      "cell_type": "code",
      "source": [
        ""
      ],
      "metadata": {
        "id": "db34Yj8h0Gx1"
      },
      "execution_count": null,
      "outputs": []
    },
    {
      "cell_type": "markdown",
      "source": [
        "### **TASK**: Use your variables and Python operators (`+, -, *, /, ^`) in calculations "
      ],
      "metadata": {
        "id": "ecw_EHju1Fy7"
      }
    },
    {
      "cell_type": "code",
      "source": [
        ""
      ],
      "metadata": {
        "id": "qkPYqjbj1lwy"
      },
      "execution_count": null,
      "outputs": []
    },
    {
      "cell_type": "markdown",
      "source": [
        "### **TASK**: Use the built-in `type()` function to determine the type of data contained within a variable"
      ],
      "metadata": {
        "id": "qCy7WcFm1vam"
      }
    },
    {
      "cell_type": "code",
      "source": [
        ""
      ],
      "metadata": {
        "id": "xNapvOsG2bB7"
      },
      "execution_count": null,
      "outputs": []
    },
    {
      "cell_type": "markdown",
      "source": [
        "### **TASK**: Use the built-in `len()` function to determine the length of a string. \n",
        "\n",
        "\n",
        "*   **NOTE**: Python uses zero indexing so the first element in a string takes on an index of zero (0).\n",
        "\n"
      ],
      "metadata": {
        "id": "mIIX11_l2qIF"
      }
    },
    {
      "cell_type": "code",
      "source": [
        ""
      ],
      "metadata": {
        "id": "B-BS2e_p26OC"
      },
      "execution_count": null,
      "outputs": []
    },
    {
      "cell_type": "markdown",
      "source": [
        "### **TASK**: Use a slice to get a substring"
      ],
      "metadata": {
        "id": "Ii58oStH3AL0"
      }
    },
    {
      "cell_type": "code",
      "source": [
        ""
      ],
      "metadata": {
        "id": "QFMqw4v33G83"
      },
      "execution_count": null,
      "outputs": []
    },
    {
      "cell_type": "markdown",
      "source": [
        "## Importing Tabular data\n",
        "\n",
        "* Download temperature data from the [NOAA Climate data website](https://www.ncei.noaa.gov/access/monitoring/climate-at-a-glance/)\n",
        "\n",
        "* Use the `pandas` library to work with tabular data in Python (be careful to skip the 'header' rows and assign missing values when appropriate)\n",
        "* NOTE: This lesson is modeled after the Sofware Carpentries (http://swcarpentry.github.io/python-novice-gapminder/07-reading-tabular/index.html)"
      ],
      "metadata": {
        "id": "e3fXdYPcidYQ"
      }
    },
    {
      "cell_type": "markdown",
      "source": [
        "### **TASK**: Use `pd.read_csv()` to open a comma separated value (.csv) file. Use the built-in `.head()` function to display the first 5 rows of your data."
      ],
      "metadata": {
        "id": "vutoXVLH6sli"
      }
    },
    {
      "cell_type": "code",
      "source": [
        ""
      ],
      "metadata": {
        "id": "zSFgngvsihNY"
      },
      "execution_count": null,
      "outputs": []
    },
    {
      "cell_type": "markdown",
      "source": [
        "### **TASK**: Use `index_col` to specify that a column’s values should be used as row headings"
      ],
      "metadata": {
        "id": "KoqL5dV474Hq"
      }
    },
    {
      "cell_type": "code",
      "source": [
        ""
      ],
      "metadata": {
        "id": "uG9Y44Vg8TD4"
      },
      "execution_count": null,
      "outputs": []
    },
    {
      "cell_type": "markdown",
      "source": [
        "### **TASK**: Use the `DataFrame.info()` method to find out more about a dataframe"
      ],
      "metadata": {
        "id": "2DqM9N-38czp"
      }
    },
    {
      "cell_type": "code",
      "source": [
        ""
      ],
      "metadata": {
        "id": "w7xA6EJQ86yC"
      },
      "execution_count": null,
      "outputs": []
    },
    {
      "cell_type": "markdown",
      "source": [
        "### **TASK**: Use `DataFrame.describe()` to get summary statistics about data"
      ],
      "metadata": {
        "id": "znvArbAO87nD"
      }
    },
    {
      "cell_type": "code",
      "source": [
        ""
      ],
      "metadata": {
        "id": "Ag1EETfm9Ar8"
      },
      "execution_count": null,
      "outputs": []
    },
    {
      "cell_type": "markdown",
      "source": [
        "## Plotting\n",
        "\n",
        "Finally, you can plot the data using `.plot()`\n",
        "\n",
        "**NOTE**: This lesson is modeled after a lesson from our Earth Data Science textbook (https://www.earthdatascience.org/courses/scientists-guide-to-plotting-data-in-python/plot-activities/plot-tabular-pandas-data-python/)"
      ],
      "metadata": {
        "id": "R9ZcgyxqihbR"
      }
    },
    {
      "cell_type": "markdown",
      "source": [
        "### **TASK**: Plot your temperature data using `.plot()`"
      ],
      "metadata": {
        "id": "EQs0BJwy9yQ3"
      }
    },
    {
      "cell_type": "code",
      "source": [
        ""
      ],
      "metadata": {
        "id": "RJpxNiTBijjz"
      },
      "execution_count": null,
      "outputs": []
    },
    {
      "cell_type": "markdown",
      "source": [
        "## Functions and Loops\n",
        "\n",
        "Programming is especially useful when you need to perform the same task or similar tasks over and over. For example - suppose we want to to convert the temperatures in our DataFrame from Fahrenheit to Celcius? "
      ],
      "metadata": {
        "id": "EyQH_Llgijvk"
      }
    },
    {
      "cell_type": "markdown",
      "source": [
        "### TASK: Convert a single temperature from Fahrenheit to Celcius"
      ],
      "metadata": {
        "id": "lopb1Ij8kh4C"
      }
    },
    {
      "cell_type": "code",
      "source": [
        ""
      ],
      "metadata": {
        "id": "Z7MoeY4uiuxz"
      },
      "execution_count": null,
      "outputs": []
    },
    {
      "cell_type": "markdown",
      "source": [
        "### TASK: Write a function to convert the temperature, then test it by converting a single temperature"
      ],
      "metadata": {
        "id": "JAWNArtgkqkz"
      }
    },
    {
      "cell_type": "code",
      "source": [
        ""
      ],
      "metadata": {
        "id": "YVoGlYDkk9G7"
      },
      "execution_count": null,
      "outputs": []
    },
    {
      "cell_type": "markdown",
      "source": [
        "### TASK: Make a copy of one year of your data"
      ],
      "metadata": {
        "id": "fTY5pZ2yk8Rz"
      }
    },
    {
      "cell_type": "code",
      "source": [
        ""
      ],
      "metadata": {
        "id": "dEo6cyNXlM3E"
      },
      "execution_count": null,
      "outputs": []
    },
    {
      "cell_type": "markdown",
      "source": [
        "### TASK: Using a for loop, print each of the Fahrenheit temperatures in your DataFrame"
      ],
      "metadata": {
        "id": "6SYjStQOnFnF"
      }
    },
    {
      "cell_type": "code",
      "source": [
        ""
      ],
      "metadata": {
        "id": "l7WXRILGnFxO"
      },
      "execution_count": null,
      "outputs": []
    },
    {
      "cell_type": "markdown",
      "source": [
        "### TASK: Convert each Fahrenheit temperature to Celcius and print that instead"
      ],
      "metadata": {
        "id": "BdzPnIVZnF_P"
      }
    },
    {
      "cell_type": "code",
      "source": [
        ""
      ],
      "metadata": {
        "id": "3eX8VoJWnGMA"
      },
      "execution_count": null,
      "outputs": []
    },
    {
      "cell_type": "markdown",
      "source": [
        "### TASK: Store the Celcius temperatures in a list"
      ],
      "metadata": {
        "id": "EWYugoq4nGWv"
      }
    },
    {
      "cell_type": "code",
      "source": [
        ""
      ],
      "metadata": {
        "id": "1jLdPRuGnGhJ"
      },
      "execution_count": null,
      "outputs": []
    },
    {
      "cell_type": "markdown",
      "source": [
        "### TASK: Compute a list of all the temperatures in your DataFrame in Celcius. Then, add them to your DataFrame as a new column.\n",
        "\n",
        "**HINT - use the one-year test DataFrame to try out your method before applying it to the whole DataFrame**"
      ],
      "metadata": {
        "id": "WpMGTgxklNQ2"
      }
    },
    {
      "cell_type": "code",
      "source": [
        ""
      ],
      "metadata": {
        "id": "AEplZrDXnqpy"
      },
      "execution_count": null,
      "outputs": []
    },
    {
      "cell_type": "markdown",
      "source": [
        "### TASK: Plot the temperature in Celcius over time"
      ],
      "metadata": {
        "id": "AjJ07BHMnrct"
      }
    }
  ]
}