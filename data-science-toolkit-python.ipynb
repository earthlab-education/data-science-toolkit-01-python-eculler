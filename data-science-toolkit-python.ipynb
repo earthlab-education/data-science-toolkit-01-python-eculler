{
  "nbformat": 4,
  "nbformat_minor": 0,
  "metadata": {
    "colab": {
      "name": "data-science-toolkit-python.ipynb",
      "provenance": []
    },
    "kernelspec": {
      "name": "python3",
      "display_name": "Python 3"
    },
    "language_info": {
      "name": "python"
    },
    "gpuClass": "standard"
  },
  "cells": [
    {
      "cell_type": "markdown",
      "source": [
        "<img style=\"float: left;\" src=\"https://drive.google.com/uc?export=view&id=13_P0Dq9rb1aXFFVfspMRn5hlP7t8RuwC\" width=\"200\" height=\"100\">\n",
        "\n",
        "\n",
        "![Colored Bar](https://drive.google.com/uc?export=view&id=1WL0ur5SQc5ijCvXc6MvWUeoWOIVS_rQ9)\n",
        "\n",
        "\n",
        "\n",
        "# Data Science Toolkit - Intro to Python\n",
        "\n",
        "Welcome to the Data Science Toolkit workshop! Today, we will learn the fundamentals of programming for data science in Python, including:\n",
        "\n",
        "\n",
        "1.   Variables and Data Types\n",
        "2.   Importing Tabular Data\n",
        "3.   Plotting\n",
        "4.   Functions and Loops"
      ],
      "metadata": {
        "id": "4JXr2AgdhIiG"
      }
    },
    {
      "cell_type": "markdown",
      "source": [
        "## Variables and Data Types\n",
        "\n",
        "Variables are used to store information in Python using the assignment operator `=` . They can take on numerical values, or text values, or some combination. Python is case sensitive, and you should get in the habit of giving meaningful names to your variables. \n",
        "\n",
        "The following tasks are modeled after the Software Carpentries (http://swcarpentry.github.io/python-novice-gapminder/02-variables/index.html)\n",
        "\n",
        "\n"
      ],
      "metadata": {
        "id": "utjSE4J4iYbY"
      }
    },
    {
      "cell_type": "markdown",
      "source": [
        "### **TASK**: Create some variables"
      ],
      "metadata": {
        "id": "CbZjhAYoy5vD"
      }
    },
    {
      "cell_type": "code",
      "execution_count": null,
      "metadata": {
        "id": "uSfPRCBDhC6Z"
      },
      "outputs": [],
      "source": [
        ""
      ]
    },
    {
      "cell_type": "markdown",
      "source": [
        "### **TASK**: Use `print` to display values"
      ],
      "metadata": {
        "id": "vyhcp-FszSaD"
      }
    },
    {
      "cell_type": "code",
      "source": [
        ""
      ],
      "metadata": {
        "id": "Yr5nVCg0zun-"
      },
      "execution_count": null,
      "outputs": []
    },
    {
      "cell_type": "markdown",
      "source": [
        "### Variables must be created before they are used\n",
        "\n",
        "\n",
        "*   If a variable doesn’t exist yet, or if the name has been mis-spelled, Python reports an error.\n",
        "*   It can be helpful to use the `Runtime` -> `Restart & Run All` option to clear out your variables and re-run cells from the top of the notebook.\n",
        "*   A variable inspector is a handy way to monitor variable assigments.\n",
        "\n",
        "\n",
        "\n"
      ],
      "metadata": {
        "id": "GO7Qfar2zxPq"
      }
    },
    {
      "cell_type": "code",
      "source": [
        ""
      ],
      "metadata": {
        "id": "db34Yj8h0Gx1"
      },
      "execution_count": null,
      "outputs": []
    },
    {
      "cell_type": "markdown",
      "source": [
        "### **TASK**: Use your variables and Python operators (`+, -, *, /, ^`) in calculations "
      ],
      "metadata": {
        "id": "ecw_EHju1Fy7"
      }
    },
    {
      "cell_type": "code",
      "source": [
        ""
      ],
      "metadata": {
        "id": "qkPYqjbj1lwy"
      },
      "execution_count": null,
      "outputs": []
    },
    {
      "cell_type": "markdown",
      "source": [
        "### **TASK**: Use the built-in `type()` function to determine the type of data contained within a variable"
      ],
      "metadata": {
        "id": "qCy7WcFm1vam"
      }
    },
    {
      "cell_type": "code",
      "source": [
        ""
      ],
      "metadata": {
        "id": "xNapvOsG2bB7"
      },
      "execution_count": null,
      "outputs": []
    },
    {
      "cell_type": "markdown",
      "source": [
        "### **TASK**: Use the built-in `len()` function to determine the length of a string. \n",
        "\n",
        "\n",
        "*   **NOTE**: Python uses zero indexing so the first element in a string takes on an index of zero (0).\n",
        "\n"
      ],
      "metadata": {
        "id": "mIIX11_l2qIF"
      }
    },
    {
      "cell_type": "code",
      "source": [
        ""
      ],
      "metadata": {
        "id": "B-BS2e_p26OC"
      },
      "execution_count": null,
      "outputs": []
    },
    {
      "cell_type": "markdown",
      "source": [
        "### **TASK**: Use a slice to get a substring"
      ],
      "metadata": {
        "id": "Ii58oStH3AL0"
      }
    },
    {
      "cell_type": "code",
      "source": [
        ""
      ],
      "metadata": {
        "id": "QFMqw4v33G83"
      },
      "execution_count": null,
      "outputs": []
    },
    {
      "cell_type": "markdown",
      "source": [
        "## Importing Tabular data\n",
        "\n",
        "* Download temperature data from the [NOAA Climate data website](https://www.ncei.noaa.gov/access/monitoring/climate-at-a-glance/)\n",
        "\n",
        "* Use the `pandas` library to work with tabular data in Python (be careful to skip the 'header' rows and assign missing values when appropriate)\n",
        "* NOTE: This lesson is modeled after the Sofware Carpentries (http://swcarpentry.github.io/python-novice-gapminder/07-reading-tabular/index.html)"
      ],
      "metadata": {
        "id": "e3fXdYPcidYQ"
      }
    },
    {
      "cell_type": "markdown",
      "source": [
        "### **TASK**: Use `pd.read_csv()` to open a comma separated value (.csv) file. Use the built-in `.head()` function to display the first 5 rows of your data."
      ],
      "metadata": {
        "id": "vutoXVLH6sli"
      }
    },
    {
      "cell_type": "code",
      "source": [
        "import pandas as pd"
      ],
      "metadata": {
        "id": "2iit3LhDoqAU"
      },
      "execution_count": null,
      "outputs": []
    },
    {
      "cell_type": "code",
      "source": [
        "# Define the temperature data url\n",
        "chicago_tmax_url = (\n",
        "    \"https://www.ncei.noaa.gov/cag/city/time-series/\"\n",
        "    \"USW00094846-tmax-all-7-1958-2022.csv\"\n",
        "    \"?base_prd=true&begbaseyear=1958&endbaseyear=2000\")\n",
        "\n",
        "# Import data using pandas\n",
        "chicago_tmax_df = pd.read_csv(\n",
        "    chicago_tmax_url,\n",
        "    skiprows=4,\n",
        "    na_values=-99,\n",
        "    index_col='Date')\n",
        "chicago_tmax_df"
      ],
      "metadata": {
        "id": "zSFgngvsihNY",
        "colab": {
          "base_uri": "https://localhost:8080/",
          "height": 450
        },
        "outputId": "06387a9d-dda7-4501-84e7-ea9dc1659bbb"
      },
      "execution_count": null,
      "outputs": [
        {
          "output_type": "execute_result",
          "data": {
            "text/plain": [
              "        Value  Anomaly\n",
              "Date                  \n",
              "195811   49.9      2.3\n",
              "195812   28.5     -6.0\n",
              "195901   25.6     -3.7\n",
              "195902   32.4     -1.9\n",
              "195903   44.7     -0.8\n",
              "...       ...      ...\n",
              "202203   49.1      3.6\n",
              "202204   55.1     -3.3\n",
              "202205   72.2      2.0\n",
              "202206   82.6      3.0\n",
              "202207   83.5     -0.2\n",
              "\n",
              "[765 rows x 2 columns]"
            ],
            "text/html": [
              "\n",
              "  <div id=\"df-d9bbd722-0243-4d89-8dd0-f116015b1959\">\n",
              "    <div class=\"colab-df-container\">\n",
              "      <div>\n",
              "<style scoped>\n",
              "    .dataframe tbody tr th:only-of-type {\n",
              "        vertical-align: middle;\n",
              "    }\n",
              "\n",
              "    .dataframe tbody tr th {\n",
              "        vertical-align: top;\n",
              "    }\n",
              "\n",
              "    .dataframe thead th {\n",
              "        text-align: right;\n",
              "    }\n",
              "</style>\n",
              "<table border=\"1\" class=\"dataframe\">\n",
              "  <thead>\n",
              "    <tr style=\"text-align: right;\">\n",
              "      <th></th>\n",
              "      <th>Value</th>\n",
              "      <th>Anomaly</th>\n",
              "    </tr>\n",
              "    <tr>\n",
              "      <th>Date</th>\n",
              "      <th></th>\n",
              "      <th></th>\n",
              "    </tr>\n",
              "  </thead>\n",
              "  <tbody>\n",
              "    <tr>\n",
              "      <th>195811</th>\n",
              "      <td>49.9</td>\n",
              "      <td>2.3</td>\n",
              "    </tr>\n",
              "    <tr>\n",
              "      <th>195812</th>\n",
              "      <td>28.5</td>\n",
              "      <td>-6.0</td>\n",
              "    </tr>\n",
              "    <tr>\n",
              "      <th>195901</th>\n",
              "      <td>25.6</td>\n",
              "      <td>-3.7</td>\n",
              "    </tr>\n",
              "    <tr>\n",
              "      <th>195902</th>\n",
              "      <td>32.4</td>\n",
              "      <td>-1.9</td>\n",
              "    </tr>\n",
              "    <tr>\n",
              "      <th>195903</th>\n",
              "      <td>44.7</td>\n",
              "      <td>-0.8</td>\n",
              "    </tr>\n",
              "    <tr>\n",
              "      <th>...</th>\n",
              "      <td>...</td>\n",
              "      <td>...</td>\n",
              "    </tr>\n",
              "    <tr>\n",
              "      <th>202203</th>\n",
              "      <td>49.1</td>\n",
              "      <td>3.6</td>\n",
              "    </tr>\n",
              "    <tr>\n",
              "      <th>202204</th>\n",
              "      <td>55.1</td>\n",
              "      <td>-3.3</td>\n",
              "    </tr>\n",
              "    <tr>\n",
              "      <th>202205</th>\n",
              "      <td>72.2</td>\n",
              "      <td>2.0</td>\n",
              "    </tr>\n",
              "    <tr>\n",
              "      <th>202206</th>\n",
              "      <td>82.6</td>\n",
              "      <td>3.0</td>\n",
              "    </tr>\n",
              "    <tr>\n",
              "      <th>202207</th>\n",
              "      <td>83.5</td>\n",
              "      <td>-0.2</td>\n",
              "    </tr>\n",
              "  </tbody>\n",
              "</table>\n",
              "<p>765 rows × 2 columns</p>\n",
              "</div>\n",
              "      <button class=\"colab-df-convert\" onclick=\"convertToInteractive('df-d9bbd722-0243-4d89-8dd0-f116015b1959')\"\n",
              "              title=\"Convert this dataframe to an interactive table.\"\n",
              "              style=\"display:none;\">\n",
              "        \n",
              "  <svg xmlns=\"http://www.w3.org/2000/svg\" height=\"24px\"viewBox=\"0 0 24 24\"\n",
              "       width=\"24px\">\n",
              "    <path d=\"M0 0h24v24H0V0z\" fill=\"none\"/>\n",
              "    <path d=\"M18.56 5.44l.94 2.06.94-2.06 2.06-.94-2.06-.94-.94-2.06-.94 2.06-2.06.94zm-11 1L8.5 8.5l.94-2.06 2.06-.94-2.06-.94L8.5 2.5l-.94 2.06-2.06.94zm10 10l.94 2.06.94-2.06 2.06-.94-2.06-.94-.94-2.06-.94 2.06-2.06.94z\"/><path d=\"M17.41 7.96l-1.37-1.37c-.4-.4-.92-.59-1.43-.59-.52 0-1.04.2-1.43.59L10.3 9.45l-7.72 7.72c-.78.78-.78 2.05 0 2.83L4 21.41c.39.39.9.59 1.41.59.51 0 1.02-.2 1.41-.59l7.78-7.78 2.81-2.81c.8-.78.8-2.07 0-2.86zM5.41 20L4 18.59l7.72-7.72 1.47 1.35L5.41 20z\"/>\n",
              "  </svg>\n",
              "      </button>\n",
              "      \n",
              "  <style>\n",
              "    .colab-df-container {\n",
              "      display:flex;\n",
              "      flex-wrap:wrap;\n",
              "      gap: 12px;\n",
              "    }\n",
              "\n",
              "    .colab-df-convert {\n",
              "      background-color: #E8F0FE;\n",
              "      border: none;\n",
              "      border-radius: 50%;\n",
              "      cursor: pointer;\n",
              "      display: none;\n",
              "      fill: #1967D2;\n",
              "      height: 32px;\n",
              "      padding: 0 0 0 0;\n",
              "      width: 32px;\n",
              "    }\n",
              "\n",
              "    .colab-df-convert:hover {\n",
              "      background-color: #E2EBFA;\n",
              "      box-shadow: 0px 1px 2px rgba(60, 64, 67, 0.3), 0px 1px 3px 1px rgba(60, 64, 67, 0.15);\n",
              "      fill: #174EA6;\n",
              "    }\n",
              "\n",
              "    [theme=dark] .colab-df-convert {\n",
              "      background-color: #3B4455;\n",
              "      fill: #D2E3FC;\n",
              "    }\n",
              "\n",
              "    [theme=dark] .colab-df-convert:hover {\n",
              "      background-color: #434B5C;\n",
              "      box-shadow: 0px 1px 3px 1px rgba(0, 0, 0, 0.15);\n",
              "      filter: drop-shadow(0px 1px 2px rgba(0, 0, 0, 0.3));\n",
              "      fill: #FFFFFF;\n",
              "    }\n",
              "  </style>\n",
              "\n",
              "      <script>\n",
              "        const buttonEl =\n",
              "          document.querySelector('#df-d9bbd722-0243-4d89-8dd0-f116015b1959 button.colab-df-convert');\n",
              "        buttonEl.style.display =\n",
              "          google.colab.kernel.accessAllowed ? 'block' : 'none';\n",
              "\n",
              "        async function convertToInteractive(key) {\n",
              "          const element = document.querySelector('#df-d9bbd722-0243-4d89-8dd0-f116015b1959');\n",
              "          const dataTable =\n",
              "            await google.colab.kernel.invokeFunction('convertToInteractive',\n",
              "                                                     [key], {});\n",
              "          if (!dataTable) return;\n",
              "\n",
              "          const docLinkHtml = 'Like what you see? Visit the ' +\n",
              "            '<a target=\"_blank\" href=https://colab.research.google.com/notebooks/data_table.ipynb>data table notebook</a>'\n",
              "            + ' to learn more about interactive tables.';\n",
              "          element.innerHTML = '';\n",
              "          dataTable['output_type'] = 'display_data';\n",
              "          await google.colab.output.renderOutput(dataTable, element);\n",
              "          const docLink = document.createElement('div');\n",
              "          docLink.innerHTML = docLinkHtml;\n",
              "          element.appendChild(docLink);\n",
              "        }\n",
              "      </script>\n",
              "    </div>\n",
              "  </div>\n",
              "  "
            ]
          },
          "metadata": {},
          "execution_count": 9
        }
      ]
    },
    {
      "cell_type": "markdown",
      "source": [
        "### **TASK**: Convert the Date column to DateTime (parse)"
      ],
      "metadata": {
        "id": "QTNYeU5mqBvG"
      }
    },
    {
      "cell_type": "code",
      "source": [
        ""
      ],
      "metadata": {
        "id": "BsT1A_qxqhR3"
      },
      "execution_count": null,
      "outputs": []
    },
    {
      "cell_type": "markdown",
      "source": [
        "## Plotting\n",
        "\n",
        "Finally, you can plot the data using `.plot()`\n",
        "\n",
        "**NOTE**: This lesson is modeled after a lesson from our Earth Data Science textbook (https://www.earthdatascience.org/courses/scientists-guide-to-plotting-data-in-python/plot-activities/plot-tabular-pandas-data-python/)"
      ],
      "metadata": {
        "id": "R9ZcgyxqihbR"
      }
    },
    {
      "cell_type": "markdown",
      "source": [
        "### **TASK**: Plot your temperature data using `.plot()`"
      ],
      "metadata": {
        "id": "EQs0BJwy9yQ3"
      }
    },
    {
      "cell_type": "code",
      "source": [
        ""
      ],
      "metadata": {
        "id": "RJpxNiTBijjz"
      },
      "execution_count": null,
      "outputs": []
    },
    {
      "cell_type": "markdown",
      "source": [
        "## Functions and Loops\n",
        "\n",
        "Programming is especially useful when you need to perform the same task or similar tasks over and over. For example - suppose we want to to convert the temperatures in our DataFrame from Fahrenheit to Celcius? "
      ],
      "metadata": {
        "id": "EyQH_Llgijvk"
      }
    },
    {
      "cell_type": "markdown",
      "source": [
        "### TASK: Convert a single temperature from Fahrenheit to Celcius"
      ],
      "metadata": {
        "id": "lopb1Ij8kh4C"
      }
    },
    {
      "cell_type": "code",
      "source": [
        ""
      ],
      "metadata": {
        "id": "Z7MoeY4uiuxz"
      },
      "execution_count": null,
      "outputs": []
    },
    {
      "cell_type": "markdown",
      "source": [
        "### TASK: Write a function to convert the temperature, then test it by converting a single temperature"
      ],
      "metadata": {
        "id": "JAWNArtgkqkz"
      }
    },
    {
      "cell_type": "code",
      "source": [
        ""
      ],
      "metadata": {
        "id": "YVoGlYDkk9G7"
      },
      "execution_count": null,
      "outputs": []
    },
    {
      "cell_type": "markdown",
      "source": [
        "### TASK: Make a copy of one year of your data"
      ],
      "metadata": {
        "id": "fTY5pZ2yk8Rz"
      }
    },
    {
      "cell_type": "code",
      "source": [
        ""
      ],
      "metadata": {
        "id": "dEo6cyNXlM3E"
      },
      "execution_count": null,
      "outputs": []
    },
    {
      "cell_type": "markdown",
      "source": [
        "### TASK: Using a for loop, print each of the Fahrenheit temperatures in your DataFrame"
      ],
      "metadata": {
        "id": "6SYjStQOnFnF"
      }
    },
    {
      "cell_type": "code",
      "source": [
        ""
      ],
      "metadata": {
        "id": "l7WXRILGnFxO"
      },
      "execution_count": null,
      "outputs": []
    },
    {
      "cell_type": "markdown",
      "source": [
        "### TASK: Convert each Fahrenheit temperature to Celcius and print that instead"
      ],
      "metadata": {
        "id": "BdzPnIVZnF_P"
      }
    },
    {
      "cell_type": "code",
      "source": [
        ""
      ],
      "metadata": {
        "id": "3eX8VoJWnGMA"
      },
      "execution_count": null,
      "outputs": []
    },
    {
      "cell_type": "markdown",
      "source": [
        "### TASK: Store the Celcius temperatures in a list"
      ],
      "metadata": {
        "id": "EWYugoq4nGWv"
      }
    },
    {
      "cell_type": "code",
      "source": [
        ""
      ],
      "metadata": {
        "id": "1jLdPRuGnGhJ"
      },
      "execution_count": null,
      "outputs": []
    },
    {
      "cell_type": "markdown",
      "source": [
        "### TASK: Compute a list of all the temperatures in your DataFrame in Celcius. Then, add them to your DataFrame as a new column.\n",
        "\n",
        "**HINT - use the one-year test DataFrame to try out your method before applying it to the whole DataFrame**"
      ],
      "metadata": {
        "id": "WpMGTgxklNQ2"
      }
    },
    {
      "cell_type": "code",
      "source": [
        ""
      ],
      "metadata": {
        "id": "AEplZrDXnqpy"
      },
      "execution_count": null,
      "outputs": []
    },
    {
      "cell_type": "markdown",
      "source": [
        "### TASK: Plot the temperature in Celcius over time"
      ],
      "metadata": {
        "id": "AjJ07BHMnrct"
      }
    }
  ]
}